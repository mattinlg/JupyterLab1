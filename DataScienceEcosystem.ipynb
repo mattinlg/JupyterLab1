{
 "cells": [
  {
   "cell_type": "markdown",
   "id": "13dbdd91-5e18-4ed7-8636-82c9fe326568",
   "metadata": {},
   "source": [
    "<h1> Data Science Tools and Ecosystem "
   ]
  },
  {
   "cell_type": "markdown",
   "id": "862b4be1-5a90-48d3-bde8-2704dccc741b",
   "metadata": {},
   "source": [
    "In this notebook, Data Science Tools and Ecosystem are summarized."
   ]
  },
  {
   "cell_type": "markdown",
   "id": "66dd0945-b34f-4c0d-b48f-edc0ef90b875",
   "metadata": {},
   "source": [
    " **Objectives:**\n",
    " - List popular languages for Data Science\n",
    " - List of commonly used libraries used by Data Scientists\n",
    " - list of Data Science Tools"
   ]
  },
  {
   "cell_type": "code",
   "execution_count": null,
   "id": "36436c07-8a88-4006-bb81-f4ae25ee93ca",
   "metadata": {},
   "outputs": [],
   "source": [
    "Some of the popular languages that Data Scientists use are:\n",
    "1. Python\n",
    "2. R\n",
    "3. SQL"
   ]
  },
  {
   "cell_type": "markdown",
   "id": "6bc4f46a-2d2a-472d-b144-cc1bb3f852f6",
   "metadata": {},
   "source": [
    "Some of the commonly used libraries used by Data Scientists include:\n",
    "1. Matplotlib\n",
    "2. Pandas\n",
    "3. Numpy"
   ]
  },
  {
   "cell_type": "markdown",
   "id": "f341656a-0da7-40d0-a9d7-c28c78ef49b3",
   "metadata": {},
   "source": [
    "| Data Science Tools |  \n",
    "| -------------|\n",
    "| Apache Spark | \n",
    "| Tensor Flow | \n",
    "| RStudio |"
   ]
  },
  {
   "cell_type": "markdown",
   "id": "988a438f-409b-4d5c-b2ff-5e4b18e6fa8f",
   "metadata": {},
   "source": [
    "<h3> Below are a few examples of evaluating arithmetic expressions in Python."
   ]
  },
  {
   "cell_type": "markdown",
   "id": "2a728747-dc92-4f1c-be4b-c55e4648446a",
   "metadata": {},
   "source": [
    "# Arithmetic operations\n",
    "\n",
    "(3*4)+5\n"
   ]
  },
  {
   "cell_type": "markdown",
   "id": "9c804e56-d456-4ddb-aaa7-824761699dfe",
   "metadata": {},
   "source": [
    "<h2> Author </h2>\n",
    "Matt Daneman"
   ]
  },
  {
   "cell_type": "code",
   "execution_count": null,
   "id": "4eb94577-6820-4cd6-8374-635d34c85e62",
   "metadata": {},
   "outputs": [],
   "source": []
  },
  {
   "cell_type": "code",
   "execution_count": null,
   "id": "33db0e11-0a05-43cc-9f75-52eda7da3f48",
   "metadata": {},
   "outputs": [],
   "source": []
  }
 ],
 "metadata": {
  "kernelspec": {
   "display_name": "Python 3 (ipykernel)",
   "language": "python",
   "name": "python3"
  },
  "language_info": {
   "codemirror_mode": {
    "name": "ipython",
    "version": 3
   },
   "file_extension": ".py",
   "mimetype": "text/x-python",
   "name": "python",
   "nbconvert_exporter": "python",
   "pygments_lexer": "ipython3",
   "version": "3.11.9"
  }
 },
 "nbformat": 4,
 "nbformat_minor": 5
}
